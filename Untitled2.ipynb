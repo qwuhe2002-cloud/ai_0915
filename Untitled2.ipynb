{
  "nbformat": 4,
  "nbformat_minor": 0,
  "metadata": {
    "colab": {
      "provenance": [],
      "authorship_tag": "ABX9TyO4Tr8t029yPi4dq2MfPaW+",
      "include_colab_link": true
    },
    "kernelspec": {
      "name": "python3",
      "display_name": "Python 3"
    },
    "language_info": {
      "name": "python"
    }
  },
  "cells": [
    {
      "cell_type": "markdown",
      "metadata": {
        "id": "view-in-github",
        "colab_type": "text"
      },
      "source": [
        "<a href=\"https://colab.research.google.com/github/qwuhe2002-cloud/ai_0915/blob/main/Untitled2.ipynb\" target=\"_parent\"><img src=\"https://colab.research.google.com/assets/colab-badge.svg\" alt=\"Open In Colab\"/></a>"
      ]
    },
    {
      "cell_type": "code",
      "execution_count": 1,
      "metadata": {
        "colab": {
          "base_uri": "https://localhost:8080/"
        },
        "id": "EipZAHpxiAw2",
        "outputId": "fbbb6ded-a208-43a3-ff51-4b96ca64f529"
      },
      "outputs": [
        {
          "output_type": "stream",
          "name": "stdout",
          "text": [
            "加法程式\n",
            "請輸入兩個整數值> 10 15\n",
            "答案是 25\n"
          ]
        }
      ],
      "source": [
        "print('加法程式')                            # 輸出提示訊息，告知使用者這是一個加法程式\n",
        "x, y = input('請輸入兩個整數值> ').split()   # 提示使用者輸入兩個整數，使用 input() 獲取輸入，並使用 split() 將輸入的字串按空格分割，分別賦值給變數 x 和 y\n",
        "x = int(x)                                   # 將變數 x 的值從字串轉換為整數\n",
        "y = int(y)                                   # 將變數 y 的值從字串轉換為整數\n",
        "total = x + y                                # 將變數 x 和 y 相加，結果賦值給變數 total\n",
        "print('答案是', total)                       # 輸出結果，顯示兩數相加的總和\n"
      ]
    }
  ]
}